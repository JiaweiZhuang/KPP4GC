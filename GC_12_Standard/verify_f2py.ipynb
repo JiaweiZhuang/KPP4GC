{
 "cells": [
  {
   "cell_type": "code",
   "execution_count": 1,
   "metadata": {},
   "outputs": [],
   "source": [
    "%matplotlib inline\n",
    "import matplotlib.pyplot as plt\n",
    "import numpy as np\n",
    "import xarray as xr"
   ]
  },
  {
   "cell_type": "code",
   "execution_count": 2,
   "metadata": {},
   "outputs": [],
   "source": [
    "import kpp4py"
   ]
  },
  {
   "cell_type": "code",
   "execution_count": 3,
   "metadata": {},
   "outputs": [
    {
     "data": {
      "text/plain": [
       "\u001b[0;31mCall signature:\u001b[0m \u001b[0mkpp4py\u001b[0m\u001b[0;34m.\u001b[0m\u001b[0monestep\u001b[0m\u001b[0;34m(\u001b[0m\u001b[0;34m*\u001b[0m\u001b[0margs\u001b[0m\u001b[0;34m,\u001b[0m \u001b[0;34m**\u001b[0m\u001b[0mkwargs\u001b[0m\u001b[0;34m)\u001b[0m\u001b[0;34m\u001b[0m\u001b[0m\n",
       "\u001b[0;31mType:\u001b[0m           fortran\n",
       "\u001b[0;31mString form:\u001b[0m    <fortran object>\n",
       "\u001b[0;31mDocstring:\u001b[0m     \n",
       "all_c_after = onestep(all_c_before,all_phy,all_photol,[n_sample])\n",
       "\n",
       "Wrapper for ``onestep``.\n",
       "\n",
       "Parameters\n",
       "----------\n",
       "all_c_before : input rank-2 array('d') with bounds (240,n_sample)\n",
       "all_phy : input rank-2 array('d') with bounds (4,n_sample)\n",
       "all_photol : input rank-2 array('d') with bounds (130,n_sample)\n",
       "\n",
       "Other Parameters\n",
       "----------------\n",
       "n_sample : input int, optional\n",
       "    Default: shape(all_c_before,1)\n",
       "\n",
       "Returns\n",
       "-------\n",
       "all_c_after : rank-2 array('d') with bounds (240,n_sample)\n"
      ]
     },
     "metadata": {},
     "output_type": "display_data"
    }
   ],
   "source": [
    "?kpp4py.onestep"
   ]
  },
  {
   "cell_type": "code",
   "execution_count": 4,
   "metadata": {},
   "outputs": [
    {
     "data": {
      "text/plain": [
       "<xarray.Dataset>\n",
       "Dimensions:   (lat: 46, lev: 72, lon: 72, nphotol: 130, nphy: 4, nreact: 725, nspec: 240)\n",
       "Dimensions without coordinates: lat, lev, lon, nphotol, nphy, nreact, nspec\n",
       "Data variables:\n",
       "    C_before  (lev, lat, lon, nspec) float64 ...\n",
       "    C_after   (lev, lat, lon, nspec) float64 ...\n",
       "    PHOTOL    (lev, lat, lon, nphotol) float64 ...\n",
       "    PHY       (lev, lat, lon, nphy) float64 ...\n",
       "    RCONST    (lev, lat, lon, nreact) float64 ..."
      ]
     },
     "execution_count": 4,
     "metadata": {},
     "output_type": "execute_result"
    }
   ],
   "source": [
    "ds = xr.open_dataset('KPP_fields.nc')\n",
    "ds"
   ]
  },
  {
   "cell_type": "code",
   "execution_count": 5,
   "metadata": {},
   "outputs": [
    {
     "data": {
      "text/plain": [
       "<matplotlib.collections.QuadMesh at 0x31fa77278>"
      ]
     },
     "execution_count": 5,
     "metadata": {},
     "output_type": "execute_result"
    },
    {
     "data": {
      "image/png": "[encoded data removed]",
      "text/plain": [
       "<Figure size 432x288 with 2 Axes>"
      ]
     },
     "metadata": {},
     "output_type": "display_data"
    }
   ],
   "source": [
    "ds['C_before'][0,...,233].plot()"
   ]
  },
  {
   "cell_type": "code",
   "execution_count": 6,
   "metadata": {},
   "outputs": [],
   "source": [
    "ds_sub = ds.isel(lev=0, lat=30, lon=slice(0,10))"
   ]
  },
  {
   "cell_type": "code",
   "execution_count": 7,
   "metadata": {},
   "outputs": [],
   "source": [
    "ds_sub = ds.isel(lev=0, lat=30, lon=slice(0,10))\n",
    "\n",
    "all_c_before = ds_sub['C_before'].values\n",
    "all_phy = ds_sub['PHY'].values\n",
    "all_photol = ds_sub['PHOTOL'].values\n",
    "\n",
    "all_c_after_true = ds_sub['C_after'].values # for verification"
   ]
  },
  {
   "cell_type": "code",
   "execution_count": 11,
   "metadata": {},
   "outputs": [
    {
     "data": {
      "text/plain": [
       "(10, 240)"
      ]
     },
     "execution_count": 11,
     "metadata": {},
     "output_type": "execute_result"
    }
   ],
   "source": [
    "all_c_after = kpp4py.onestep(all_c_before.T, all_phy.T, all_photol.T).T\n",
    "all_c_after.shape"
   ]
  },
  {
   "cell_type": "code",
   "execution_count": 12,
   "metadata": {},
   "outputs": [
    {
     "data": {
      "text/plain": [
       "<matplotlib.collections.PathCollection at 0x31fc4c080>"
      ]
     },
     "execution_count": 12,
     "metadata": {},
     "output_type": "execute_result"
    },
    {
     "data": {
      "image/png": "[encoded data removed]",
      "text/plain": [
       "<Figure size 432x288 with 1 Axes>"
      ]
     },
     "metadata": {},
     "output_type": "display_data"
    }
   ],
   "source": [
    "plt.scatter(all_c_after[:,233], all_c_after_true[:,233])\n",
    "plt.scatter(all_c_after[:,233], all_c_before[:,233])"
   ]
  },
  {
   "cell_type": "code",
   "execution_count": null,
   "metadata": {},
   "outputs": [],
   "source": []
  }
 ],
 "metadata": {
  "kernelspec": {
   "display_name": "Python 3",
   "language": "python",
   "name": "python3"
  },
  "language_info": {
   "codemirror_mode": {
    "name": "ipython",
    "version": 3
   },
   "file_extension": ".py",
   "mimetype": "text/x-python",
   "name": "python",
   "nbconvert_exporter": "python",
   "pygments_lexer": "ipython3",
   "version": "3.6.6"
  }
 },
 "nbformat": 4,
 "nbformat_minor": 2
}
